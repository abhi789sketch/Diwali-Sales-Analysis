{
 "cells": [
  {
   "cell_type": "code",
   "execution_count": 1,
   "id": "a8ef6986",
   "metadata": {
    "_cell_guid": "b1076dfc-b9ad-4769-8c92-a6c4dae69d19",
    "_uuid": "8f2839f25d086af736a60e9eeb907d3b93b6e0e5",
    "execution": {
     "iopub.execute_input": "2024-09-24T12:13:29.988631Z",
     "iopub.status.busy": "2024-09-24T12:13:29.987466Z",
     "iopub.status.idle": "2024-09-24T12:13:30.981317Z",
     "shell.execute_reply": "2024-09-24T12:13:30.979597Z"
    },
    "papermill": {
     "duration": 1.008906,
     "end_time": "2024-09-24T12:13:30.984039",
     "exception": false,
     "start_time": "2024-09-24T12:13:29.975133",
     "status": "completed"
    },
    "tags": []
   },
   "outputs": [
    {
     "name": "stdout",
     "output_type": "stream",
     "text": [
      "/kaggle/input/diwali-sales/Diwali Sales Data.csv\n"
     ]
    }
   ],
   "source": [
    "import numpy as np # linear algebra\n",
    "import pandas as pd # data processing, CSV file I/O (e.g. pd.read_csv)\n",
    "import matplotlib.pyplot as plt #Visualizing Data\n",
    "import os\n",
    "for dirname, _, filenames in os.walk('/kaggle/input'):\n",
    "    for filename in filenames:\n",
    "        print(os.path.join(dirname, filename))"
   ]
  },
  {
   "cell_type": "code",
   "execution_count": 2,
   "id": "af2dbb8b",
   "metadata": {
    "execution": {
     "iopub.execute_input": "2024-09-24T12:13:31.003207Z",
     "iopub.status.busy": "2024-09-24T12:13:31.002675Z",
     "iopub.status.idle": "2024-09-24T12:13:31.087113Z",
     "shell.execute_reply": "2024-09-24T12:13:31.085818Z"
    },
    "papermill": {
     "duration": 0.097332,
     "end_time": "2024-09-24T12:13:31.090063",
     "exception": false,
     "start_time": "2024-09-24T12:13:30.992731",
     "status": "completed"
    },
    "tags": []
   },
   "outputs": [],
   "source": [
    "data = pd.read_csv(\"/kaggle/input/diwali-sales/Diwali Sales Data.csv\", encoding=\"unicode_escape\")"
   ]
  },
  {
   "cell_type": "code",
   "execution_count": 3,
   "id": "5e19cbec",
   "metadata": {
    "execution": {
     "iopub.execute_input": "2024-09-24T12:13:31.109862Z",
     "iopub.status.busy": "2024-09-24T12:13:31.109313Z",
     "iopub.status.idle": "2024-09-24T12:13:31.141969Z",
     "shell.execute_reply": "2024-09-24T12:13:31.140813Z"
    },
    "papermill": {
     "duration": 0.045807,
     "end_time": "2024-09-24T12:13:31.144715",
     "exception": false,
     "start_time": "2024-09-24T12:13:31.098908",
     "status": "completed"
    },
    "tags": []
   },
   "outputs": [
    {
     "data": {
      "text/html": [
       "<div>\n",
       "<style scoped>\n",
       "    .dataframe tbody tr th:only-of-type {\n",
       "        vertical-align: middle;\n",
       "    }\n",
       "\n",
       "    .dataframe tbody tr th {\n",
       "        vertical-align: top;\n",
       "    }\n",
       "\n",
       "    .dataframe thead th {\n",
       "        text-align: right;\n",
       "    }\n",
       "</style>\n",
       "<table border=\"1\" class=\"dataframe\">\n",
       "  <thead>\n",
       "    <tr style=\"text-align: right;\">\n",
       "      <th></th>\n",
       "      <th>User_ID</th>\n",
       "      <th>Cust_name</th>\n",
       "      <th>Product_ID</th>\n",
       "      <th>Gender</th>\n",
       "      <th>Age Group</th>\n",
       "      <th>Age</th>\n",
       "      <th>Marital_Status</th>\n",
       "      <th>State</th>\n",
       "      <th>Zone</th>\n",
       "      <th>Occupation</th>\n",
       "      <th>Product_Category</th>\n",
       "      <th>Orders</th>\n",
       "      <th>Amount</th>\n",
       "      <th>Status</th>\n",
       "      <th>unnamed1</th>\n",
       "    </tr>\n",
       "  </thead>\n",
       "  <tbody>\n",
       "    <tr>\n",
       "      <th>0</th>\n",
       "      <td>1002903</td>\n",
       "      <td>Sanskriti</td>\n",
       "      <td>P00125942</td>\n",
       "      <td>F</td>\n",
       "      <td>26-35</td>\n",
       "      <td>28</td>\n",
       "      <td>0</td>\n",
       "      <td>Maharashtra</td>\n",
       "      <td>Western</td>\n",
       "      <td>Healthcare</td>\n",
       "      <td>Auto</td>\n",
       "      <td>1</td>\n",
       "      <td>23952.0</td>\n",
       "      <td>NaN</td>\n",
       "      <td>NaN</td>\n",
       "    </tr>\n",
       "    <tr>\n",
       "      <th>1</th>\n",
       "      <td>1000732</td>\n",
       "      <td>Kartik</td>\n",
       "      <td>P00110942</td>\n",
       "      <td>F</td>\n",
       "      <td>26-35</td>\n",
       "      <td>35</td>\n",
       "      <td>1</td>\n",
       "      <td>Andhra Pradesh</td>\n",
       "      <td>Southern</td>\n",
       "      <td>Govt</td>\n",
       "      <td>Auto</td>\n",
       "      <td>3</td>\n",
       "      <td>23934.0</td>\n",
       "      <td>NaN</td>\n",
       "      <td>NaN</td>\n",
       "    </tr>\n",
       "    <tr>\n",
       "      <th>2</th>\n",
       "      <td>1001990</td>\n",
       "      <td>Bindu</td>\n",
       "      <td>P00118542</td>\n",
       "      <td>F</td>\n",
       "      <td>26-35</td>\n",
       "      <td>35</td>\n",
       "      <td>1</td>\n",
       "      <td>Uttar Pradesh</td>\n",
       "      <td>Central</td>\n",
       "      <td>Automobile</td>\n",
       "      <td>Auto</td>\n",
       "      <td>3</td>\n",
       "      <td>23924.0</td>\n",
       "      <td>NaN</td>\n",
       "      <td>NaN</td>\n",
       "    </tr>\n",
       "    <tr>\n",
       "      <th>3</th>\n",
       "      <td>1001425</td>\n",
       "      <td>Sudevi</td>\n",
       "      <td>P00237842</td>\n",
       "      <td>M</td>\n",
       "      <td>0-17</td>\n",
       "      <td>16</td>\n",
       "      <td>0</td>\n",
       "      <td>Karnataka</td>\n",
       "      <td>Southern</td>\n",
       "      <td>Construction</td>\n",
       "      <td>Auto</td>\n",
       "      <td>2</td>\n",
       "      <td>23912.0</td>\n",
       "      <td>NaN</td>\n",
       "      <td>NaN</td>\n",
       "    </tr>\n",
       "    <tr>\n",
       "      <th>4</th>\n",
       "      <td>1000588</td>\n",
       "      <td>Joni</td>\n",
       "      <td>P00057942</td>\n",
       "      <td>M</td>\n",
       "      <td>26-35</td>\n",
       "      <td>28</td>\n",
       "      <td>1</td>\n",
       "      <td>Gujarat</td>\n",
       "      <td>Western</td>\n",
       "      <td>Food Processing</td>\n",
       "      <td>Auto</td>\n",
       "      <td>2</td>\n",
       "      <td>23877.0</td>\n",
       "      <td>NaN</td>\n",
       "      <td>NaN</td>\n",
       "    </tr>\n",
       "  </tbody>\n",
       "</table>\n",
       "</div>"
      ],
      "text/plain": [
       "   User_ID  Cust_name Product_ID Gender Age Group  Age  Marital_Status  \\\n",
       "0  1002903  Sanskriti  P00125942      F     26-35   28               0   \n",
       "1  1000732     Kartik  P00110942      F     26-35   35               1   \n",
       "2  1001990      Bindu  P00118542      F     26-35   35               1   \n",
       "3  1001425     Sudevi  P00237842      M      0-17   16               0   \n",
       "4  1000588       Joni  P00057942      M     26-35   28               1   \n",
       "\n",
       "            State      Zone       Occupation Product_Category  Orders  \\\n",
       "0     Maharashtra   Western       Healthcare             Auto       1   \n",
       "1  Andhra Pradesh  Southern             Govt             Auto       3   \n",
       "2   Uttar Pradesh   Central       Automobile             Auto       3   \n",
       "3       Karnataka  Southern     Construction             Auto       2   \n",
       "4         Gujarat   Western  Food Processing             Auto       2   \n",
       "\n",
       "    Amount  Status  unnamed1  \n",
       "0  23952.0     NaN       NaN  \n",
       "1  23934.0     NaN       NaN  \n",
       "2  23924.0     NaN       NaN  \n",
       "3  23912.0     NaN       NaN  \n",
       "4  23877.0     NaN       NaN  "
      ]
     },
     "execution_count": 3,
     "metadata": {},
     "output_type": "execute_result"
    }
   ],
   "source": [
    "data.head()"
   ]
  },
  {
   "cell_type": "code",
   "execution_count": 4,
   "id": "4afc4fc0",
   "metadata": {
    "execution": {
     "iopub.execute_input": "2024-09-24T12:13:31.164480Z",
     "iopub.status.busy": "2024-09-24T12:13:31.163970Z",
     "iopub.status.idle": "2024-09-24T12:13:31.171429Z",
     "shell.execute_reply": "2024-09-24T12:13:31.170246Z"
    },
    "papermill": {
     "duration": 0.020143,
     "end_time": "2024-09-24T12:13:31.173846",
     "exception": false,
     "start_time": "2024-09-24T12:13:31.153703",
     "status": "completed"
    },
    "tags": []
   },
   "outputs": [
    {
     "data": {
      "text/plain": [
       "(11251, 15)"
      ]
     },
     "execution_count": 4,
     "metadata": {},
     "output_type": "execute_result"
    }
   ],
   "source": [
    "data.shape"
   ]
  },
  {
   "cell_type": "code",
   "execution_count": 5,
   "id": "6fa455dd",
   "metadata": {
    "execution": {
     "iopub.execute_input": "2024-09-24T12:13:31.194882Z",
     "iopub.status.busy": "2024-09-24T12:13:31.194037Z",
     "iopub.status.idle": "2024-09-24T12:13:31.229673Z",
     "shell.execute_reply": "2024-09-24T12:13:31.228270Z"
    },
    "papermill": {
     "duration": 0.049449,
     "end_time": "2024-09-24T12:13:31.232512",
     "exception": false,
     "start_time": "2024-09-24T12:13:31.183063",
     "status": "completed"
    },
    "tags": []
   },
   "outputs": [
    {
     "name": "stdout",
     "output_type": "stream",
     "text": [
      "<class 'pandas.core.frame.DataFrame'>\n",
      "RangeIndex: 11251 entries, 0 to 11250\n",
      "Data columns (total 15 columns):\n",
      " #   Column            Non-Null Count  Dtype  \n",
      "---  ------            --------------  -----  \n",
      " 0   User_ID           11251 non-null  int64  \n",
      " 1   Cust_name         11251 non-null  object \n",
      " 2   Product_ID        11251 non-null  object \n",
      " 3   Gender            11251 non-null  object \n",
      " 4   Age Group         11251 non-null  object \n",
      " 5   Age               11251 non-null  int64  \n",
      " 6   Marital_Status    11251 non-null  int64  \n",
      " 7   State             11251 non-null  object \n",
      " 8   Zone              11251 non-null  object \n",
      " 9   Occupation        11251 non-null  object \n",
      " 10  Product_Category  11251 non-null  object \n",
      " 11  Orders            11251 non-null  int64  \n",
      " 12  Amount            11239 non-null  float64\n",
      " 13  Status            0 non-null      float64\n",
      " 14  unnamed1          0 non-null      float64\n",
      "dtypes: float64(3), int64(4), object(8)\n",
      "memory usage: 1.3+ MB\n"
     ]
    }
   ],
   "source": [
    "data.info()"
   ]
  },
  {
   "cell_type": "code",
   "execution_count": 6,
   "id": "8e7c73c0",
   "metadata": {
    "execution": {
     "iopub.execute_input": "2024-09-24T12:13:31.252904Z",
     "iopub.status.busy": "2024-09-24T12:13:31.252477Z",
     "iopub.status.idle": "2024-09-24T12:13:31.274180Z",
     "shell.execute_reply": "2024-09-24T12:13:31.273004Z"
    },
    "papermill": {
     "duration": 0.034862,
     "end_time": "2024-09-24T12:13:31.276834",
     "exception": false,
     "start_time": "2024-09-24T12:13:31.241972",
     "status": "completed"
    },
    "tags": []
   },
   "outputs": [
    {
     "data": {
      "text/plain": [
       "User_ID             False\n",
       "Cust_name           False\n",
       "Product_ID          False\n",
       "Gender              False\n",
       "Age Group           False\n",
       "Age                 False\n",
       "Marital_Status      False\n",
       "State               False\n",
       "Zone                False\n",
       "Occupation          False\n",
       "Product_Category    False\n",
       "Orders              False\n",
       "Amount              False\n",
       "Status               True\n",
       "unnamed1             True\n",
       "dtype: bool"
      ]
     },
     "execution_count": 6,
     "metadata": {},
     "output_type": "execute_result"
    }
   ],
   "source": [
    "(data.isnull().sum()/len(data))*100 > 30"
   ]
  },
  {
   "cell_type": "code",
   "execution_count": 7,
   "id": "f3c126ef",
   "metadata": {
    "execution": {
     "iopub.execute_input": "2024-09-24T12:13:31.298787Z",
     "iopub.status.busy": "2024-09-24T12:13:31.298362Z",
     "iopub.status.idle": "2024-09-24T12:13:31.309840Z",
     "shell.execute_reply": "2024-09-24T12:13:31.308652Z"
    },
    "papermill": {
     "duration": 0.024911,
     "end_time": "2024-09-24T12:13:31.312400",
     "exception": false,
     "start_time": "2024-09-24T12:13:31.287489",
     "status": "completed"
    },
    "tags": []
   },
   "outputs": [],
   "source": [
    "data.drop([\"Status\", \"unnamed1\"], axis=1, inplace=True)"
   ]
  },
  {
   "cell_type": "code",
   "execution_count": 8,
   "id": "4819309a",
   "metadata": {
    "execution": {
     "iopub.execute_input": "2024-09-24T12:13:31.332931Z",
     "iopub.status.busy": "2024-09-24T12:13:31.332499Z",
     "iopub.status.idle": "2024-09-24T12:13:31.353011Z",
     "shell.execute_reply": "2024-09-24T12:13:31.351786Z"
    },
    "papermill": {
     "duration": 0.034117,
     "end_time": "2024-09-24T12:13:31.355918",
     "exception": false,
     "start_time": "2024-09-24T12:13:31.321801",
     "status": "completed"
    },
    "tags": []
   },
   "outputs": [],
   "source": [
    "data.dropna(inplace=True)"
   ]
  },
  {
   "cell_type": "code",
   "execution_count": 9,
   "id": "12cd5cc6",
   "metadata": {
    "execution": {
     "iopub.execute_input": "2024-09-24T12:13:31.377127Z",
     "iopub.status.busy": "2024-09-24T12:13:31.376706Z",
     "iopub.status.idle": "2024-09-24T12:13:31.385056Z",
     "shell.execute_reply": "2024-09-24T12:13:31.383678Z"
    },
    "papermill": {
     "duration": 0.022105,
     "end_time": "2024-09-24T12:13:31.387774",
     "exception": false,
     "start_time": "2024-09-24T12:13:31.365669",
     "status": "completed"
    },
    "tags": []
   },
   "outputs": [],
   "source": [
    "#Correcting the Data Type\n",
    "data[[\"Amount\", \"Orders\"]] = data[[\"Amount\", \"Orders\"]].astype(int)"
   ]
  },
  {
   "cell_type": "code",
   "execution_count": 10,
   "id": "59328d67",
   "metadata": {
    "execution": {
     "iopub.execute_input": "2024-09-24T12:13:31.408196Z",
     "iopub.status.busy": "2024-09-24T12:13:31.407790Z",
     "iopub.status.idle": "2024-09-24T12:13:31.428775Z",
     "shell.execute_reply": "2024-09-24T12:13:31.427536Z"
    },
    "papermill": {
     "duration": 0.034044,
     "end_time": "2024-09-24T12:13:31.431138",
     "exception": false,
     "start_time": "2024-09-24T12:13:31.397094",
     "status": "completed"
    },
    "tags": []
   },
   "outputs": [
    {
     "data": {
      "text/html": [
       "<div>\n",
       "<style scoped>\n",
       "    .dataframe tbody tr th:only-of-type {\n",
       "        vertical-align: middle;\n",
       "    }\n",
       "\n",
       "    .dataframe tbody tr th {\n",
       "        vertical-align: top;\n",
       "    }\n",
       "\n",
       "    .dataframe thead th {\n",
       "        text-align: right;\n",
       "    }\n",
       "</style>\n",
       "<table border=\"1\" class=\"dataframe\">\n",
       "  <thead>\n",
       "    <tr style=\"text-align: right;\">\n",
       "      <th></th>\n",
       "      <th>User_ID</th>\n",
       "      <th>Cust_name</th>\n",
       "      <th>Product_ID</th>\n",
       "      <th>Gender</th>\n",
       "      <th>Age Group</th>\n",
       "      <th>Age</th>\n",
       "      <th>Marital_Status</th>\n",
       "      <th>State</th>\n",
       "      <th>Zone</th>\n",
       "      <th>Occupation</th>\n",
       "      <th>Product_Category</th>\n",
       "      <th>Orders</th>\n",
       "      <th>Amount</th>\n",
       "    </tr>\n",
       "  </thead>\n",
       "  <tbody>\n",
       "    <tr>\n",
       "      <th>8406</th>\n",
       "      <td>1004217</td>\n",
       "      <td>Noonan</td>\n",
       "      <td>P00312842</td>\n",
       "      <td>F</td>\n",
       "      <td>18-25</td>\n",
       "      <td>19</td>\n",
       "      <td>0</td>\n",
       "      <td>Gujarat</td>\n",
       "      <td>Western</td>\n",
       "      <td>IT Sector</td>\n",
       "      <td>Clothing &amp; Apparel</td>\n",
       "      <td>2</td>\n",
       "      <td>5458</td>\n",
       "    </tr>\n",
       "    <tr>\n",
       "      <th>5715</th>\n",
       "      <td>1002489</td>\n",
       "      <td>Kirkland</td>\n",
       "      <td>P00109242</td>\n",
       "      <td>M</td>\n",
       "      <td>36-45</td>\n",
       "      <td>44</td>\n",
       "      <td>1</td>\n",
       "      <td>Gujarat</td>\n",
       "      <td>Western</td>\n",
       "      <td>Media</td>\n",
       "      <td>Electronics &amp; Gadgets</td>\n",
       "      <td>2</td>\n",
       "      <td>8084</td>\n",
       "    </tr>\n",
       "    <tr>\n",
       "      <th>10412</th>\n",
       "      <td>1004345</td>\n",
       "      <td>Duhita</td>\n",
       "      <td>P00111842</td>\n",
       "      <td>M</td>\n",
       "      <td>26-35</td>\n",
       "      <td>33</td>\n",
       "      <td>0</td>\n",
       "      <td>Karnataka</td>\n",
       "      <td>Southern</td>\n",
       "      <td>Aviation</td>\n",
       "      <td>Pet Care</td>\n",
       "      <td>3</td>\n",
       "      <td>2869</td>\n",
       "    </tr>\n",
       "    <tr>\n",
       "      <th>3868</th>\n",
       "      <td>1005223</td>\n",
       "      <td>Nandita</td>\n",
       "      <td>P00037142</td>\n",
       "      <td>F</td>\n",
       "      <td>55+</td>\n",
       "      <td>80</td>\n",
       "      <td>0</td>\n",
       "      <td>Himachal Pradesh</td>\n",
       "      <td>Northern</td>\n",
       "      <td>Retail</td>\n",
       "      <td>Sports Products</td>\n",
       "      <td>1</td>\n",
       "      <td>10909</td>\n",
       "    </tr>\n",
       "    <tr>\n",
       "      <th>7774</th>\n",
       "      <td>1005643</td>\n",
       "      <td>Shreyshi</td>\n",
       "      <td>P00282442</td>\n",
       "      <td>M</td>\n",
       "      <td>36-45</td>\n",
       "      <td>42</td>\n",
       "      <td>0</td>\n",
       "      <td>Rajasthan</td>\n",
       "      <td>Northern</td>\n",
       "      <td>Hospitality</td>\n",
       "      <td>Beauty</td>\n",
       "      <td>4</td>\n",
       "      <td>6164</td>\n",
       "    </tr>\n",
       "    <tr>\n",
       "      <th>9888</th>\n",
       "      <td>1003315</td>\n",
       "      <td>Chuck</td>\n",
       "      <td>P00173842</td>\n",
       "      <td>M</td>\n",
       "      <td>26-35</td>\n",
       "      <td>35</td>\n",
       "      <td>0</td>\n",
       "      <td>Uttarakhand</td>\n",
       "      <td>Central</td>\n",
       "      <td>IT Sector</td>\n",
       "      <td>Clothing &amp; Apparel</td>\n",
       "      <td>2</td>\n",
       "      <td>3645</td>\n",
       "    </tr>\n",
       "  </tbody>\n",
       "</table>\n",
       "</div>"
      ],
      "text/plain": [
       "       User_ID Cust_name Product_ID Gender Age Group  Age  Marital_Status  \\\n",
       "8406   1004217    Noonan  P00312842      F     18-25   19               0   \n",
       "5715   1002489  Kirkland  P00109242      M     36-45   44               1   \n",
       "10412  1004345    Duhita  P00111842      M     26-35   33               0   \n",
       "3868   1005223   Nandita  P00037142      F       55+   80               0   \n",
       "7774   1005643  Shreyshi  P00282442      M     36-45   42               0   \n",
       "9888   1003315     Chuck  P00173842      M     26-35   35               0   \n",
       "\n",
       "                  State      Zone   Occupation       Product_Category  Orders  \\\n",
       "8406            Gujarat   Western    IT Sector     Clothing & Apparel       2   \n",
       "5715            Gujarat   Western        Media  Electronics & Gadgets       2   \n",
       "10412         Karnataka  Southern     Aviation               Pet Care       3   \n",
       "3868   Himachal Pradesh  Northern       Retail        Sports Products       1   \n",
       "7774          Rajasthan  Northern  Hospitality                 Beauty       4   \n",
       "9888        Uttarakhand   Central    IT Sector     Clothing & Apparel       2   \n",
       "\n",
       "       Amount  \n",
       "8406     5458  \n",
       "5715     8084  \n",
       "10412    2869  \n",
       "3868    10909  \n",
       "7774     6164  \n",
       "9888     3645  "
      ]
     },
     "execution_count": 10,
     "metadata": {},
     "output_type": "execute_result"
    }
   ],
   "source": [
    "data.sample(6)"
   ]
  },
  {
   "cell_type": "code",
   "execution_count": 11,
   "id": "57100caf",
   "metadata": {
    "execution": {
     "iopub.execute_input": "2024-09-24T12:13:31.452854Z",
     "iopub.status.busy": "2024-09-24T12:13:31.452409Z",
     "iopub.status.idle": "2024-09-24T12:13:31.459933Z",
     "shell.execute_reply": "2024-09-24T12:13:31.458772Z"
    },
    "papermill": {
     "duration": 0.021507,
     "end_time": "2024-09-24T12:13:31.462366",
     "exception": false,
     "start_time": "2024-09-24T12:13:31.440859",
     "status": "completed"
    },
    "tags": []
   },
   "outputs": [
    {
     "data": {
      "text/plain": [
       "Index(['User_ID', 'Cust_name', 'Product_ID', 'Gender', 'Age Group', 'Age',\n",
       "       'Marital_Status', 'State', 'Zone', 'Occupation', 'Product_Category',\n",
       "       'Orders', 'Amount'],\n",
       "      dtype='object')"
      ]
     },
     "execution_count": 11,
     "metadata": {},
     "output_type": "execute_result"
    }
   ],
   "source": [
    "data.columns"
   ]
  },
  {
   "cell_type": "code",
   "execution_count": 12,
   "id": "53863e89",
   "metadata": {
    "execution": {
     "iopub.execute_input": "2024-09-24T12:13:31.483861Z",
     "iopub.status.busy": "2024-09-24T12:13:31.483427Z",
     "iopub.status.idle": "2024-09-24T12:13:31.489163Z",
     "shell.execute_reply": "2024-09-24T12:13:31.488042Z"
    },
    "papermill": {
     "duration": 0.019419,
     "end_time": "2024-09-24T12:13:31.491818",
     "exception": false,
     "start_time": "2024-09-24T12:13:31.472399",
     "status": "completed"
    },
    "tags": []
   },
   "outputs": [],
   "source": [
    "#Renaming the column\n",
    "data.rename(columns= {'Cust_name':'Customer_name'}, inplace=True)"
   ]
  },
  {
   "cell_type": "code",
   "execution_count": 13,
   "id": "591a1d12",
   "metadata": {
    "execution": {
     "iopub.execute_input": "2024-09-24T12:13:31.514428Z",
     "iopub.status.busy": "2024-09-24T12:13:31.513933Z",
     "iopub.status.idle": "2024-09-24T12:13:31.522626Z",
     "shell.execute_reply": "2024-09-24T12:13:31.521344Z"
    },
    "papermill": {
     "duration": 0.023642,
     "end_time": "2024-09-24T12:13:31.525319",
     "exception": false,
     "start_time": "2024-09-24T12:13:31.501677",
     "status": "completed"
    },
    "tags": []
   },
   "outputs": [],
   "source": [
    "#Removing unnecessary columns: Product_ID, User_ID,& Age\n",
    "data = data.drop([\"Product_ID\", \"User_ID\", \"Age\"], axis=1)"
   ]
  },
  {
   "cell_type": "code",
   "execution_count": 14,
   "id": "fc178ce5",
   "metadata": {
    "execution": {
     "iopub.execute_input": "2024-09-24T12:13:31.548185Z",
     "iopub.status.busy": "2024-09-24T12:13:31.547794Z",
     "iopub.status.idle": "2024-09-24T12:13:31.554907Z",
     "shell.execute_reply": "2024-09-24T12:13:31.553522Z"
    },
    "papermill": {
     "duration": 0.022964,
     "end_time": "2024-09-24T12:13:31.558046",
     "exception": false,
     "start_time": "2024-09-24T12:13:31.535082",
     "status": "completed"
    },
    "tags": []
   },
   "outputs": [],
   "source": [
    "data[\"Age_Group\"] = data[\"Age Group\"]"
   ]
  },
  {
   "cell_type": "code",
   "execution_count": 15,
   "id": "fb730578",
   "metadata": {
    "execution": {
     "iopub.execute_input": "2024-09-24T12:13:31.581231Z",
     "iopub.status.busy": "2024-09-24T12:13:31.580777Z",
     "iopub.status.idle": "2024-09-24T12:13:31.601243Z",
     "shell.execute_reply": "2024-09-24T12:13:31.600067Z"
    },
    "papermill": {
     "duration": 0.035664,
     "end_time": "2024-09-24T12:13:31.604026",
     "exception": false,
     "start_time": "2024-09-24T12:13:31.568362",
     "status": "completed"
    },
    "tags": []
   },
   "outputs": [
    {
     "data": {
      "text/html": [
       "<div>\n",
       "<style scoped>\n",
       "    .dataframe tbody tr th:only-of-type {\n",
       "        vertical-align: middle;\n",
       "    }\n",
       "\n",
       "    .dataframe tbody tr th {\n",
       "        vertical-align: top;\n",
       "    }\n",
       "\n",
       "    .dataframe thead th {\n",
       "        text-align: right;\n",
       "    }\n",
       "</style>\n",
       "<table border=\"1\" class=\"dataframe\">\n",
       "  <thead>\n",
       "    <tr style=\"text-align: right;\">\n",
       "      <th></th>\n",
       "      <th>Customer_name</th>\n",
       "      <th>Gender</th>\n",
       "      <th>Age Group</th>\n",
       "      <th>Marital_Status</th>\n",
       "      <th>State</th>\n",
       "      <th>Zone</th>\n",
       "      <th>Occupation</th>\n",
       "      <th>Product_Category</th>\n",
       "      <th>Orders</th>\n",
       "      <th>Amount</th>\n",
       "      <th>Age_Group</th>\n",
       "    </tr>\n",
       "  </thead>\n",
       "  <tbody>\n",
       "    <tr>\n",
       "      <th>7837</th>\n",
       "      <td>Noshiba</td>\n",
       "      <td>F</td>\n",
       "      <td>36-45</td>\n",
       "      <td>0</td>\n",
       "      <td>Himachal Pradesh</td>\n",
       "      <td>Northern</td>\n",
       "      <td>Food Processing</td>\n",
       "      <td>Electronics &amp; Gadgets</td>\n",
       "      <td>1</td>\n",
       "      <td>6126</td>\n",
       "      <td>36-45</td>\n",
       "    </tr>\n",
       "    <tr>\n",
       "      <th>8310</th>\n",
       "      <td>Akash</td>\n",
       "      <td>F</td>\n",
       "      <td>26-35</td>\n",
       "      <td>0</td>\n",
       "      <td>Kerala</td>\n",
       "      <td>Southern</td>\n",
       "      <td>Hospitality</td>\n",
       "      <td>Electronics &amp; Gadgets</td>\n",
       "      <td>4</td>\n",
       "      <td>5845</td>\n",
       "      <td>26-35</td>\n",
       "    </tr>\n",
       "    <tr>\n",
       "      <th>3856</th>\n",
       "      <td>Pölking</td>\n",
       "      <td>M</td>\n",
       "      <td>18-25</td>\n",
       "      <td>0</td>\n",
       "      <td>Gujarat</td>\n",
       "      <td>Western</td>\n",
       "      <td>Automobile</td>\n",
       "      <td>Sports Products</td>\n",
       "      <td>1</td>\n",
       "      <td>10984</td>\n",
       "      <td>18-25</td>\n",
       "    </tr>\n",
       "    <tr>\n",
       "      <th>1831</th>\n",
       "      <td>Trupti</td>\n",
       "      <td>F</td>\n",
       "      <td>26-35</td>\n",
       "      <td>0</td>\n",
       "      <td>Maharashtra</td>\n",
       "      <td>Western</td>\n",
       "      <td>Aviation</td>\n",
       "      <td>Food</td>\n",
       "      <td>2</td>\n",
       "      <td>15723</td>\n",
       "      <td>26-35</td>\n",
       "    </tr>\n",
       "    <tr>\n",
       "      <th>5531</th>\n",
       "      <td>Grace</td>\n",
       "      <td>F</td>\n",
       "      <td>36-45</td>\n",
       "      <td>0</td>\n",
       "      <td>Karnataka</td>\n",
       "      <td>Southern</td>\n",
       "      <td>Automobile</td>\n",
       "      <td>Food</td>\n",
       "      <td>4</td>\n",
       "      <td>8137</td>\n",
       "      <td>36-45</td>\n",
       "    </tr>\n",
       "    <tr>\n",
       "      <th>3022</th>\n",
       "      <td>Chandni</td>\n",
       "      <td>F</td>\n",
       "      <td>26-35</td>\n",
       "      <td>1</td>\n",
       "      <td>Karnataka</td>\n",
       "      <td>Southern</td>\n",
       "      <td>Chemical</td>\n",
       "      <td>Footwear &amp; Shoes</td>\n",
       "      <td>1</td>\n",
       "      <td>12237</td>\n",
       "      <td>26-35</td>\n",
       "    </tr>\n",
       "    <tr>\n",
       "      <th>5921</th>\n",
       "      <td>Neola</td>\n",
       "      <td>M</td>\n",
       "      <td>26-35</td>\n",
       "      <td>1</td>\n",
       "      <td>Karnataka</td>\n",
       "      <td>Southern</td>\n",
       "      <td>Lawyer</td>\n",
       "      <td>Books</td>\n",
       "      <td>1</td>\n",
       "      <td>8010</td>\n",
       "      <td>26-35</td>\n",
       "    </tr>\n",
       "  </tbody>\n",
       "</table>\n",
       "</div>"
      ],
      "text/plain": [
       "     Customer_name Gender Age Group  Marital_Status             State  \\\n",
       "7837       Noshiba      F     36-45               0  Himachal Pradesh   \n",
       "8310         Akash      F     26-35               0            Kerala   \n",
       "3856       Pölking      M     18-25               0           Gujarat   \n",
       "1831        Trupti      F     26-35               0       Maharashtra   \n",
       "5531         Grace      F     36-45               0         Karnataka   \n",
       "3022       Chandni      F     26-35               1         Karnataka   \n",
       "5921         Neola      M     26-35               1         Karnataka   \n",
       "\n",
       "          Zone       Occupation       Product_Category  Orders  Amount  \\\n",
       "7837  Northern  Food Processing  Electronics & Gadgets       1    6126   \n",
       "8310  Southern      Hospitality  Electronics & Gadgets       4    5845   \n",
       "3856   Western       Automobile        Sports Products       1   10984   \n",
       "1831   Western         Aviation                   Food       2   15723   \n",
       "5531  Southern       Automobile                   Food       4    8137   \n",
       "3022  Southern         Chemical       Footwear & Shoes       1   12237   \n",
       "5921  Southern           Lawyer                  Books       1    8010   \n",
       "\n",
       "     Age_Group  \n",
       "7837     36-45  \n",
       "8310     26-35  \n",
       "3856     18-25  \n",
       "1831     26-35  \n",
       "5531     36-45  \n",
       "3022     26-35  \n",
       "5921     26-35  "
      ]
     },
     "execution_count": 15,
     "metadata": {},
     "output_type": "execute_result"
    }
   ],
   "source": [
    "data.sample(7)"
   ]
  },
  {
   "cell_type": "code",
   "execution_count": 16,
   "id": "a17eb7a5",
   "metadata": {
    "execution": {
     "iopub.execute_input": "2024-09-24T12:13:31.627388Z",
     "iopub.status.busy": "2024-09-24T12:13:31.626944Z",
     "iopub.status.idle": "2024-09-24T12:13:31.943174Z",
     "shell.execute_reply": "2024-09-24T12:13:31.941872Z"
    },
    "papermill": {
     "duration": 0.330992,
     "end_time": "2024-09-24T12:13:31.945858",
     "exception": false,
     "start_time": "2024-09-24T12:13:31.614866",
     "status": "completed"
    },
    "tags": []
   },
   "outputs": [
    {
     "data": {
      "image/png": "[encoded data removed]",
      "text/plain": [
       "<Figure size 640x480 with 1 Axes>"
      ]
     },
     "metadata": {},
     "output_type": "display_data"
    }
   ],
   "source": [
    "x = data[\"Gender\"].value_counts().index\n",
    "y = data[\"Gender\"].value_counts().values\n",
    "\n",
    "bars = plt.bar(x, y, width=0.5, color=[\"purple\", \"orange\"])\n",
    "\n",
    "plt.xlabel(\"Gender\")\n",
    "plt.ylabel(\"Frequency\")\n",
    "plt.title(\"Order Frequency by Gender\")\n",
    "plt.bar_label(bars)\n",
    "\n",
    "plt.show()"
   ]
  },
  {
   "cell_type": "markdown",
   "id": "5942a139",
   "metadata": {
    "papermill": {
     "duration": 0.010792,
     "end_time": "2024-09-24T12:13:31.967764",
     "exception": false,
     "start_time": "2024-09-24T12:13:31.956972",
     "status": "completed"
    },
    "tags": []
   },
   "source": [
    ">  **Analysis:** *The data reveals that the majority of customers are female.*"
   ]
  },
  {
   "cell_type": "code",
   "execution_count": 17,
   "id": "5d2c9f0f",
   "metadata": {
    "execution": {
     "iopub.execute_input": "2024-09-24T12:13:31.991472Z",
     "iopub.status.busy": "2024-09-24T12:13:31.990991Z",
     "iopub.status.idle": "2024-09-24T12:13:31.999676Z",
     "shell.execute_reply": "2024-09-24T12:13:31.998532Z"
    },
    "papermill": {
     "duration": 0.023673,
     "end_time": "2024-09-24T12:13:32.002032",
     "exception": false,
     "start_time": "2024-09-24T12:13:31.978359",
     "status": "completed"
    },
    "tags": []
   },
   "outputs": [
    {
     "data": {
      "text/plain": [
       "array(['26-35', '0-17', '18-25', '51-55', '46-50', '55+', '36-45'],\n",
       "      dtype=object)"
      ]
     },
     "execution_count": 17,
     "metadata": {},
     "output_type": "execute_result"
    }
   ],
   "source": [
    "data[\"Age Group\"].unique()"
   ]
  },
  {
   "cell_type": "code",
   "execution_count": 18,
   "id": "8c7b46cb",
   "metadata": {
    "execution": {
     "iopub.execute_input": "2024-09-24T12:13:32.025528Z",
     "iopub.status.busy": "2024-09-24T12:13:32.025078Z",
     "iopub.status.idle": "2024-09-24T12:13:32.323936Z",
     "shell.execute_reply": "2024-09-24T12:13:32.322814Z"
    },
    "papermill": {
     "duration": 0.314004,
     "end_time": "2024-09-24T12:13:32.326851",
     "exception": false,
     "start_time": "2024-09-24T12:13:32.012847",
     "status": "completed"
    },
    "tags": []
   },
   "outputs": [
    {
     "data": {
      "image/png": "[encoded data removed]",
      "text/plain": [
       "<Figure size 640x480 with 1 Axes>"
      ]
     },
     "metadata": {},
     "output_type": "display_data"
    }
   ],
   "source": [
    "data['Age Group'].value_counts().sort_index().plot(kind='barh', color='#FF9999', edgecolor='black')\n",
    "\n",
    "plt.title(\"Age Group Distribution\")\n",
    "plt.xlabel(\"Age Group\")\n",
    "plt.ylabel(\"Frequency\")\n",
    "\n",
    "plt.show()"
   ]
  },
  {
   "cell_type": "markdown",
   "id": "87f2b2a4",
   "metadata": {
    "papermill": {
     "duration": 0.011432,
     "end_time": "2024-09-24T12:13:32.349923",
     "exception": false,
     "start_time": "2024-09-24T12:13:32.338491",
     "status": "completed"
    },
    "tags": []
   },
   "source": [
    "> **Analysis:** *The data indicates that the largest age group consists of individuals aged 26-35, with a notable majority being female.*"
   ]
  },
  {
   "cell_type": "code",
   "execution_count": 19,
   "id": "3f114e87",
   "metadata": {
    "execution": {
     "iopub.execute_input": "2024-09-24T12:13:32.375135Z",
     "iopub.status.busy": "2024-09-24T12:13:32.374695Z",
     "iopub.status.idle": "2024-09-24T12:13:32.737783Z",
     "shell.execute_reply": "2024-09-24T12:13:32.736510Z"
    },
    "papermill": {
     "duration": 0.379224,
     "end_time": "2024-09-24T12:13:32.740711",
     "exception": false,
     "start_time": "2024-09-24T12:13:32.361487",
     "status": "completed"
    },
    "tags": []
   },
   "outputs": [
    {
     "data": {
      "image/png": "[encoded data removed]",
      "text/plain": [
       "<Figure size 900x800 with 1 Axes>"
      ]
     },
     "metadata": {},
     "output_type": "display_data"
    }
   ],
   "source": [
    "count_sector = data[\"Occupation\"].value_counts()\n",
    "label_sector = data[\"Occupation\"].value_counts().index\n",
    "\n",
    "plt.figure(figsize=(9, 8))\n",
    "plt.pie(count_sector, labels=label_sector, autopct='%1.1f%%' )\n",
    "plt.title(\"Distribution of Customers by Sector\")\n",
    "\n",
    "plt.show()"
   ]
  },
  {
   "cell_type": "markdown",
   "id": "17992008",
   "metadata": {
    "papermill": {
     "duration": 0.012159,
     "end_time": "2024-09-24T12:13:32.765639",
     "exception": false,
     "start_time": "2024-09-24T12:13:32.753480",
     "status": "completed"
    },
    "tags": []
   },
   "source": [
    "> **Analysis:** *The data indicates that the majority of customers are from the Healthcare sector, followed by the IT sector, and then the Aviation sector.*"
   ]
  },
  {
   "cell_type": "code",
   "execution_count": 20,
   "id": "2690a712",
   "metadata": {
    "execution": {
     "iopub.execute_input": "2024-09-24T12:13:32.792352Z",
     "iopub.status.busy": "2024-09-24T12:13:32.791936Z",
     "iopub.status.idle": "2024-09-24T12:13:32.800825Z",
     "shell.execute_reply": "2024-09-24T12:13:32.799784Z"
    },
    "papermill": {
     "duration": 0.025138,
     "end_time": "2024-09-24T12:13:32.803173",
     "exception": false,
     "start_time": "2024-09-24T12:13:32.778035",
     "status": "completed"
    },
    "tags": []
   },
   "outputs": [
    {
     "data": {
      "text/plain": [
       "array(['Auto', 'Hand & Power Tools', 'Stationery', 'Tupperware',\n",
       "       'Footwear & Shoes', 'Furniture', 'Food', 'Games & Toys',\n",
       "       'Sports Products', 'Books', 'Electronics & Gadgets', 'Decor',\n",
       "       'Clothing & Apparel', 'Beauty', 'Household items', 'Pet Care',\n",
       "       'Veterinary', 'Office'], dtype=object)"
      ]
     },
     "execution_count": 20,
     "metadata": {},
     "output_type": "execute_result"
    }
   ],
   "source": [
    "data[\"Product_Category\"].unique()"
   ]
  },
  {
   "cell_type": "code",
   "execution_count": 21,
   "id": "051f8da8",
   "metadata": {
    "execution": {
     "iopub.execute_input": "2024-09-24T12:13:32.830826Z",
     "iopub.status.busy": "2024-09-24T12:13:32.830394Z",
     "iopub.status.idle": "2024-09-24T12:13:33.222474Z",
     "shell.execute_reply": "2024-09-24T12:13:33.221222Z"
    },
    "papermill": {
     "duration": 0.409278,
     "end_time": "2024-09-24T12:13:33.225642",
     "exception": false,
     "start_time": "2024-09-24T12:13:32.816364",
     "status": "completed"
    },
    "tags": []
   },
   "outputs": [
    {
     "data": {
      "image/png": "[encoded data removed]",
      "text/plain": [
       "<Figure size 1200x800 with 1 Axes>"
      ]
     },
     "metadata": {},
     "output_type": "display_data"
    }
   ],
   "source": [
    "x = data.groupby(\"Product_Category\")[\"Amount\"].sum().index\n",
    "y = data.groupby(\"Product_Category\")[\"Amount\"].sum()\n",
    "\n",
    "plt.figure(figsize=(12, 8))\n",
    "plt.barh(x, y, color='lightblue', edgecolor=\"black\")\n",
    "plt.title(\"Sales Amount Distribution Across Product Categories\")\n",
    "\n",
    "plt.show()"
   ]
  },
  {
   "cell_type": "markdown",
   "id": "fd825082",
   "metadata": {
    "papermill": {
     "duration": 0.013282,
     "end_time": "2024-09-24T12:13:33.252864",
     "exception": false,
     "start_time": "2024-09-24T12:13:33.239582",
     "status": "completed"
    },
    "tags": []
   },
   "source": [
    "> **Analysis:** *The data shows that the highest sales amount is in the Food category.*"
   ]
  },
  {
   "cell_type": "markdown",
   "id": "58424409",
   "metadata": {
    "papermill": {
     "duration": 0.013484,
     "end_time": "2024-09-24T12:13:33.280070",
     "exception": false,
     "start_time": "2024-09-24T12:13:33.266586",
     "status": "completed"
    },
    "tags": []
   },
   "source": [
    "> # # **Summary and Strategic Insights**\n",
    "The final analysis of diwali sales data reveals several key insights. Firstly, individuals aged 26-35 represent the largest segment, with a significant portion being female. Among the Sector-wise distribution, the majority of customers are from the Healthcare sector. In terms of sales performance, the Food category stands out with the highest sales amount.\n",
    "\n",
    "> **These insights can guide targeted marketing strategies, product offerings, and sector-specific approaches to enhance customer engagement and drive sales.**"
   ]
  }
 ],
 "metadata": {
  "kaggle": {
   "accelerator": "none",
   "dataSources": [
    {
     "datasetId": 3157185,
     "sourceId": 5465755,
     "sourceType": "datasetVersion"
    }
   ],
   "dockerImageVersionId": 30775,
   "isGpuEnabled": false,
   "isInternetEnabled": false,
   "language": "python",
   "sourceType": "notebook"
  },
  "kernelspec": {
   "display_name": "Python 3 (ipykernel)",
   "language": "python",
   "name": "python3"
  },
  "language_info": {
   "codemirror_mode": {
    "name": "ipython",
    "version": 3
   },
   "file_extension": ".py",
   "mimetype": "text/x-python",
   "name": "python",
   "nbconvert_exporter": "python",
   "pygments_lexer": "ipython3",
   "version": "3.11.7"
  },
  "papermill": {
   "default_parameters": {},
   "duration": 6.967708,
   "end_time": "2024-09-24T12:13:33.815227",
   "environment_variables": {},
   "exception": null,
   "input_path": "__notebook__.ipynb",
   "output_path": "__notebook__.ipynb",
   "parameters": {},
   "start_time": "2024-09-24T12:13:26.847519",
   "version": "2.6.0"
  }
 },
 "nbformat": 4,
 "nbformat_minor": 5
}
